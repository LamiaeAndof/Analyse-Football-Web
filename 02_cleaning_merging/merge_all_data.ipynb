{
 "cells": [
  {
   "cell_type": "markdown",
   "id": "193d4c49",
   "metadata": {},
   "source": [
    "# 🔗 Fusion des données pour la prédiction du Ballon d'Or 2025\n",
    "\n",
    "Ce notebook fusionne :\n",
    "- Les performances de `ballondor_dataset.csv`\n",
    "- Les trophées individuels de `individual_titles_2025_cleaned.csv`\n",
    "- Les trophées collectifs de `team_titles_2025.csv`\n",
    "\n",
    "➡️ Résultat : `ballondor_dataset_merged.csv` prêt pour la modélisation\n"
   ]
  },
  {
   "cell_type": "code",
   "execution_count": 4,
   "id": "24d4054d",
   "metadata": {},
   "outputs": [
    {
     "name": "stdout",
     "output_type": "stream",
     "text": [
      "✅ Fusion réussie ! Fichier sauvegardé dans : ../data/ballondor_dataset_merged.csv\n"
     ]
    }
   ],
   "source": [
    "import os\n",
    "import pandas as pd\n",
    "\n",
    "# Création du dossier si nécessaire\n",
    "os.makedirs(\"../data\", exist_ok=True)\n",
    "\n",
    "# Chargement des fichiers\n",
    "ballon_dor_df = pd.read_csv(\"../data/ballondor_dataset.csv\", sep=\";\")\n",
    "individual_titles_df = pd.read_csv(\"../data/individual_titles_2025_cleaned.csv\", sep=\";\", encoding=\"ISO-8859-1\")\n",
    "team_titles_df = pd.read_csv(\"../data/team_titles_2025.csv\", sep=\";\", encoding=\"ISO-8859-1\")\n",
    "\n",
    "# Fusion des données\n",
    "df_merged = ballon_dor_df.merge(individual_titles_df, on=\"Player\", how=\"left\")\n",
    "df_merged = df_merged.merge(team_titles_df, on=\"Player\", how=\"left\", suffixes=(\"\", \"_Team\"))\n",
    "\n",
    "# Nettoyage des colonnes\n",
    "df_merged[\"Nb_IndividualTitles\"] = df_merged[\"Nb_IndividualTitles\"].fillna(0).astype(int)\n",
    "df_merged[\"TeamTitles\"] = df_merged[\"TeamTitles\"].fillna(0).astype(int)\n",
    "df_merged[\"IndividualTitlesDetail\"] = df_merged[\"IndividualTitlesDetail\"].fillna(\"Aucun\")\n",
    "\n",
    "# Sauvegarde\n",
    "df_merged.to_csv(\"../data/ballondor_dataset_merged.csv\", index=False)\n",
    "print(\"✅ Fusion réussie ! Fichier sauvegardé dans : ../data/ballondor_dataset_merged.csv\")\n"
   ]
  },
  {
   "cell_type": "markdown",
   "id": "43a96537",
   "metadata": {},
   "source": [
    "## 🧠 Création des variables subjectives pour la prédiction\n",
    "\n",
    "Pour enrichir notre dataset, nous avons intégré 5 variables cruciales qui influencent fortement les votes du Ballon d’Or :\n",
    "\n",
    "| Variable             | Description                                                                 |\n",
    "|----------------------|-----------------------------------------------------------------------------|\n",
    "| `ImpactScore`        | Score subjectif (0-10) basé sur la contribution du joueur dans les matchs clés (LDC, Euro, Copa, finale nationale). |\n",
    "| `RecordsScore`       | Score basé sur les records atteints par le joueur (plus jeune buteur, top scoreur, précocité, etc.). |\n",
    "| `PopularityScore`    | Niveau de notoriété du joueur sur les réseaux sociaux, couverture médiatique et influence globale. |\n",
    "| `Finalist_UCL`       | Booléen (1 ou 0) indiquant si le joueur a atteint la finale de la Ligue des champions 2025. |\n",
    "| `BookmakersScore`    | Score inversé basé sur les cotes des bookmakers (plus petit = plus favori). |\n",
    "\n",
    "Ces valeurs ont été estimées à partir de sources fiables telles que :\n",
    "- **Foot Africa**\n",
    "- **The Independent**\n",
    "- **talkSPORT**\n",
    "- **The Sun**\n",
    "- **Cadena SER**\n",
    "- **Sky Sports**\n",
    "- **Wikipedia et Transfermarkt pour les records**\n",
    "- **Réseaux sociaux (Instagram, Twitter) pour la popularité**\n",
    "\n",
    "Elles permettent au modèle de prendre en compte non seulement les performances statistiques, mais aussi l’aspect réputationnel et médiatique, très important dans le vote du Ballon d'Or.\n"
   ]
  },
  {
   "cell_type": "code",
   "execution_count": 8,
   "id": "32dd8e5b",
   "metadata": {},
   "outputs": [
    {
     "name": "stdout",
     "output_type": "stream",
     "text": [
      "✅ Fusion terminée ! Fichier prêt pour la modélisation :../ data/ballondor_dataset_ready.csv\n"
     ]
    }
   ],
   "source": [
    "import pandas as pd\n",
    "import os\n",
    "\n",
    "# === 📁 S'assurer que le dossier existe\n",
    "os.makedirs(\"data\", exist_ok=True)\n",
    "\n",
    "# === 📥 Charger les deux fichiers\n",
    "# ⚠️ Attention : fichier des features subjectives utilise un séparateur `;`\n",
    "df_base = pd.read_csv(\"../data/ballondor_dataset_merged.csv\")\n",
    "df_scores = pd.read_csv(\"../data/ballondor_additional_features_updated.csv\", sep=\";\")\n",
    "\n",
    "# === 🔗 Fusionner les deux datasets sur la colonne \"Player\"\n",
    "df_final = df_base.merge(df_scores, on=\"Player\", how=\"left\")\n",
    "\n",
    "# === 💾 Sauvegarder le fichier final prêt pour le modèle\n",
    "df_final.to_csv(\"../data/ballondor_dataset_ready.csv\", index=False)\n",
    "\n",
    "print(\"✅ Fusion terminée ! Fichier prêt pour la modélisation :../ data/ballondor_dataset_ready.csv\")\n"
   ]
  }
 ],
 "metadata": {
  "kernelspec": {
   "display_name": "base",
   "language": "python",
   "name": "python3"
  },
  "language_info": {
   "codemirror_mode": {
    "name": "ipython",
    "version": 3
   },
   "file_extension": ".py",
   "mimetype": "text/x-python",
   "name": "python",
   "nbconvert_exporter": "python",
   "pygments_lexer": "ipython3",
   "version": "3.12.4"
  }
 },
 "nbformat": 4,
 "nbformat_minor": 5
}
