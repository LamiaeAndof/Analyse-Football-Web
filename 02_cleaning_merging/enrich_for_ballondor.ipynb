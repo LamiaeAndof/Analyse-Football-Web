{
 "cells": [
  {
   "cell_type": "code",
   "execution_count": 2,
   "id": "e98d4793",
   "metadata": {},
   "outputs": [
    {
     "name": "stdout",
     "output_type": "stream",
     "text": [
      "✅ Fusion réussie. Exemple :\n"
     ]
    },
    {
     "data": {
      "text/html": [
       "<div>\n",
       "<style scoped>\n",
       "    .dataframe tbody tr th:only-of-type {\n",
       "        vertical-align: middle;\n",
       "    }\n",
       "\n",
       "    .dataframe tbody tr th {\n",
       "        vertical-align: top;\n",
       "    }\n",
       "\n",
       "    .dataframe thead th {\n",
       "        text-align: right;\n",
       "    }\n",
       "</style>\n",
       "<table border=\"1\" class=\"dataframe\">\n",
       "  <thead>\n",
       "    <tr style=\"text-align: right;\">\n",
       "      <th></th>\n",
       "      <th>Player</th>\n",
       "      <th>Gls</th>\n",
       "      <th>TeamTitles</th>\n",
       "    </tr>\n",
       "  </thead>\n",
       "  <tbody>\n",
       "    <tr>\n",
       "      <th>0</th>\n",
       "      <td>Federico Valverde</td>\n",
       "      <td>6.0</td>\n",
       "      <td>2.0</td>\n",
       "    </tr>\n",
       "    <tr>\n",
       "      <th>1</th>\n",
       "      <td>Kylian Mbappé</td>\n",
       "      <td>29.0</td>\n",
       "      <td>2.0</td>\n",
       "    </tr>\n",
       "    <tr>\n",
       "      <th>2</th>\n",
       "      <td>Thibaut Courtois</td>\n",
       "      <td>0.0</td>\n",
       "      <td>0.0</td>\n",
       "    </tr>\n",
       "    <tr>\n",
       "      <th>3</th>\n",
       "      <td>Aurélien Tchouaméni</td>\n",
       "      <td>0.0</td>\n",
       "      <td>2.0</td>\n",
       "    </tr>\n",
       "    <tr>\n",
       "      <th>4</th>\n",
       "      <td>Jude Bellingham</td>\n",
       "      <td>9.0</td>\n",
       "      <td>2.0</td>\n",
       "    </tr>\n",
       "  </tbody>\n",
       "</table>\n",
       "</div>"
      ],
      "text/plain": [
       "                Player   Gls  TeamTitles\n",
       "0    Federico Valverde   6.0         2.0\n",
       "1        Kylian Mbappé  29.0         2.0\n",
       "2     Thibaut Courtois   0.0         0.0\n",
       "3  Aurélien Tchouaméni   0.0         2.0\n",
       "4      Jude Bellingham   9.0         2.0"
      ]
     },
     "execution_count": 2,
     "metadata": {},
     "output_type": "execute_result"
    }
   ],
   "source": [
    "import pandas as pd\n",
    "\n",
    "# 1. Charger les fichiers\n",
    "df_stats = pd.read_csv(\"../data/raw/fbref_final_basic_stats.csv\", sep=';')\n",
    "df_titles = pd.read_csv(\"../data/raw/titles_2025.csv\")\n",
    "  # le fichier des titres\n",
    "\n",
    "# 2. Fusionner les deux sur le nom du joueur\n",
    "df = df_stats.merge(df_titles, on=\"Player\", how=\"left\")\n",
    "\n",
    "# 3. Remplir les valeurs NaN par 0 pour les colonnes de titres\n",
    "df[[\"DomesticTitles\", \"EuropeanTitles\", \"NationalTeamWin\", \"TeamTitles\"]] = df[\n",
    "    [\"DomesticTitles\", \"EuropeanTitles\", \"NationalTeamWin\", \"TeamTitles\"]\n",
    "].fillna(0)\n",
    "\n",
    "# 4. Aperçu des données fusionnées\n",
    "print(\"✅ Fusion réussie. Exemple :\")\n",
    "df[[\"Player\", \"Gls\", \"TeamTitles\"]].head()\n"
   ]
  },
  {
   "cell_type": "code",
   "execution_count": 4,
   "id": "aae49859",
   "metadata": {},
   "outputs": [
    {
     "name": "stdout",
     "output_type": "stream",
     "text": [
      "['Player', 'Nation', 'Pos', 'Age', 'MP', 'Starts', 'Min', '90s', 'Gls', 'Ast', 'G+A', 'G-PK', 'PK', 'PKatt', 'CrdY', 'CrdR', 'xG', 'npxG', 'xAG', 'npxG+xAG', 'PrgC', 'PrgP', 'PrgR', 'Gls.1', 'Ast.1', 'G+A.1', 'G-PK.1', 'G+A-PK', 'xG.1', 'xAG.1', 'xG+xAG', 'npxG.1', 'npxG+xAG.1', 'Unnamed: 33', 'MP.1', 'DomesticTitles', 'EuropeanTitles', 'NationalTeamWin', 'TeamTitles', 'GoalsPer90', 'xGPer90']\n"
     ]
    }
   ],
   "source": [
    "print(df.columns.tolist())\n"
   ]
  },
  {
   "cell_type": "code",
   "execution_count": 5,
   "id": "d924ad2e",
   "metadata": {},
   "outputs": [
    {
     "name": "stdout",
     "output_type": "stream",
     "text": [
      "✅ Indicateurs GoalsPer90, xGPer90 et xGContribution ajoutés.\n"
     ]
    }
   ],
   "source": [
    "# Éviter la division par zéro\n",
    "df[\"Min\"] = df[\"Min\"].replace(0, pd.NA)\n",
    "\n",
    "# Calculs des indicateurs par 90 minutes\n",
    "df[\"GoalsPer90\"] = df[\"Gls\"] / (df[\"Min\"] / 90)\n",
    "df[\"xGPer90\"] = df[\"xG\"] / (df[\"Min\"] / 90)\n",
    "df[\"xAPer90\"] = df[\"xAG\"] / (df[\"Min\"] / 90)\n",
    "df[\"xGContribution\"] = (df[\"xG\"] + df[\"xAG\"]) / (df[\"Min\"] / 90)\n",
    "\n",
    "# Remplacer les valeurs NaN (joueurs sans minutes) par 0\n",
    "df.fillna(0, inplace=True)\n",
    "\n",
    "print(\"✅ Indicateurs GoalsPer90, xGPer90 et xGContribution ajoutés.\")\n"
   ]
  },
  {
   "cell_type": "code",
   "execution_count": 11,
   "id": "c326a1a0",
   "metadata": {},
   "outputs": [
    {
     "data": {
      "text/html": [
       "<div>\n",
       "<style scoped>\n",
       "    .dataframe tbody tr th:only-of-type {\n",
       "        vertical-align: middle;\n",
       "    }\n",
       "\n",
       "    .dataframe tbody tr th {\n",
       "        vertical-align: top;\n",
       "    }\n",
       "\n",
       "    .dataframe thead th {\n",
       "        text-align: right;\n",
       "    }\n",
       "</style>\n",
       "<table border=\"1\" class=\"dataframe\">\n",
       "  <thead>\n",
       "    <tr style=\"text-align: right;\">\n",
       "      <th></th>\n",
       "      <th>Player</th>\n",
       "      <th>CrdY</th>\n",
       "      <th>CrdR</th>\n",
       "      <th>FairPlayScore</th>\n",
       "    </tr>\n",
       "  </thead>\n",
       "  <tbody>\n",
       "    <tr>\n",
       "      <th>0</th>\n",
       "      <td>Federico Valverde</td>\n",
       "      <td>4.0</td>\n",
       "      <td>0.0</td>\n",
       "      <td>6.0</td>\n",
       "    </tr>\n",
       "    <tr>\n",
       "      <th>1</th>\n",
       "      <td>Kylian Mbappé</td>\n",
       "      <td>3.0</td>\n",
       "      <td>1.0</td>\n",
       "      <td>4.0</td>\n",
       "    </tr>\n",
       "    <tr>\n",
       "      <th>2</th>\n",
       "      <td>Thibaut Courtois</td>\n",
       "      <td>1.0</td>\n",
       "      <td>0.0</td>\n",
       "      <td>9.0</td>\n",
       "    </tr>\n",
       "    <tr>\n",
       "      <th>3</th>\n",
       "      <td>Aurélien Tchouaméni</td>\n",
       "      <td>5.0</td>\n",
       "      <td>0.0</td>\n",
       "      <td>5.0</td>\n",
       "    </tr>\n",
       "    <tr>\n",
       "      <th>4</th>\n",
       "      <td>Jude Bellingham</td>\n",
       "      <td>5.0</td>\n",
       "      <td>1.0</td>\n",
       "      <td>2.0</td>\n",
       "    </tr>\n",
       "  </tbody>\n",
       "</table>\n",
       "</div>"
      ],
      "text/plain": [
       "                Player  CrdY  CrdR  FairPlayScore\n",
       "0    Federico Valverde   4.0   0.0            6.0\n",
       "1        Kylian Mbappé   3.0   1.0            4.0\n",
       "2     Thibaut Courtois   1.0   0.0            9.0\n",
       "3  Aurélien Tchouaméni   5.0   0.0            5.0\n",
       "4      Jude Bellingham   5.0   1.0            2.0"
      ]
     },
     "execution_count": 11,
     "metadata": {},
     "output_type": "execute_result"
    }
   ],
   "source": [
    "# Création du FairPlayScore basé sur les cartons\n",
    "# Hypothèse : 1 rouge ≈ 3 jaunes\n",
    "\n",
    "df[\"FairPlayScore\"] = 10 - (df[\"CrdY\"].fillna(0) + 3 * df[\"CrdR\"].fillna(0))\n",
    "\n",
    "# Empêcher les scores négatifs (max entre 0 et la valeur calculée)\n",
    "df[\"FairPlayScore\"] = df[\"FairPlayScore\"].clip(lower=0)\n",
    "\n",
    "# Aperçu\n",
    "df[[\"Player\", \"CrdY\", \"CrdR\", \"FairPlayScore\"]].head()\n"
   ]
  },
  {
   "cell_type": "code",
   "execution_count": 14,
   "id": "6e49aa34",
   "metadata": {},
   "outputs": [],
   "source": [
    "# Extraire uniquement la partie avant le tiret, gérer les NaN, puis convertir proprement\n",
    "df[\"Age\"] = (\n",
    "    df[\"Age\"]\n",
    "    .astype(str)\n",
    "    .str.extract(r\"^(\\d+)-\")      # capture les chiffres avant le \"-\"\n",
    "    .astype(float)                # permet les NaN\n",
    "    .round(0).astype(\"Int64\")     # type nullable pour éviter les erreurs\n",
    ")\n",
    "\n"
   ]
  },
  {
   "cell_type": "code",
   "execution_count": 16,
   "id": "87e49506",
   "metadata": {},
   "outputs": [
    {
     "name": "stdout",
     "output_type": "stream",
     "text": [
      "✅ Fichier enrichi final sauvegardé.\n"
     ]
    }
   ],
   "source": [
    "df.to_csv(\"../data/raw/ballondor_dataset.csv\", index=False)\n",
    "print(\"✅ Fichier enrichi final sauvegardé.\")\n"
   ]
  }
 ],
 "metadata": {
  "kernelspec": {
   "display_name": "base",
   "language": "python",
   "name": "python3"
  },
  "language_info": {
   "codemirror_mode": {
    "name": "ipython",
    "version": 3
   },
   "file_extension": ".py",
   "mimetype": "text/x-python",
   "name": "python",
   "nbconvert_exporter": "python",
   "pygments_lexer": "ipython3",
   "version": "3.12.4"
  }
 },
 "nbformat": 4,
 "nbformat_minor": 5
}
