{
 "cells": [
  {
   "cell_type": "code",
   "execution_count": 2,
   "id": "99bc987d",
   "metadata": {},
   "outputs": [
    {
     "name": "stderr",
     "output_type": "stream",
     "text": [
      "\n",
      "[notice] A new release of pip is available: 25.1 -> 25.1.1\n",
      "[notice] To update, run: python.exe -m pip install --upgrade pip\n"
     ]
    },
    {
     "name": "stdout",
     "output_type": "stream",
     "text": [
      "Defaulting to user installation because normal site-packages is not writeable\n",
      "Requirement already satisfied: requests in c:\\users\\pc\\appdata\\roaming\\python\\python312\\site-packages (2.31.0)\n",
      "Requirement already satisfied: charset-normalizer<4,>=2 in c:\\users\\pc\\appdata\\roaming\\python\\python312\\site-packages (from requests) (3.3.2)\n",
      "Requirement already satisfied: idna<4,>=2.5 in c:\\users\\pc\\appdata\\roaming\\python\\python312\\site-packages (from requests) (3.6)\n",
      "Requirement already satisfied: urllib3<3,>=1.21.1 in c:\\users\\pc\\appdata\\roaming\\python\\python312\\site-packages (from requests) (2.2.0)\n",
      "Requirement already satisfied: certifi>=2017.4.17 in c:\\users\\pc\\appdata\\roaming\\python\\python312\\site-packages (from requests) (2024.2.2)\n"
     ]
    },
    {
     "ename": "KeyError",
     "evalue": "'clubs'",
     "output_type": "error",
     "traceback": [
      "\u001b[1;31m---------------------------------------------------------------------------\u001b[0m",
      "\u001b[1;31mKeyError\u001b[0m                                  Traceback (most recent call last)",
      "Cell \u001b[1;32mIn[2], line 21\u001b[0m\n\u001b[0;32m     18\u001b[0m records \u001b[38;5;241m=\u001b[39m []\n\u001b[0;32m     19\u001b[0m \u001b[38;5;28;01mfor\u001b[39;00m league, comp_id \u001b[38;5;129;01min\u001b[39;00m LEAGUES\u001b[38;5;241m.\u001b[39mitems():\n\u001b[0;32m     20\u001b[0m     \u001b[38;5;66;03m# 1) clubs de la ligue\u001b[39;00m\n\u001b[1;32m---> 21\u001b[0m     clubs \u001b[38;5;241m=\u001b[39m \u001b[43mrequests\u001b[49m\u001b[38;5;241;43m.\u001b[39;49m\u001b[43mget\u001b[49m\u001b[43m(\u001b[49m\u001b[38;5;124;43mf\u001b[39;49m\u001b[38;5;124;43m\"\u001b[39;49m\u001b[38;5;132;43;01m{\u001b[39;49;00m\u001b[43mBASE\u001b[49m\u001b[38;5;132;43;01m}\u001b[39;49;00m\u001b[38;5;124;43m/competitions/\u001b[39;49m\u001b[38;5;132;43;01m{\u001b[39;49;00m\u001b[43mcomp_id\u001b[49m\u001b[38;5;132;43;01m}\u001b[39;49;00m\u001b[38;5;124;43m/clubs\u001b[39;49m\u001b[38;5;124;43m\"\u001b[39;49m\u001b[43m)\u001b[49m\u001b[38;5;241;43m.\u001b[39;49m\u001b[43mjson\u001b[49m\u001b[43m(\u001b[49m\u001b[43m)\u001b[49m\u001b[43m[\u001b[49m\u001b[38;5;124;43m\"\u001b[39;49m\u001b[38;5;124;43mclubs\u001b[39;49m\u001b[38;5;124;43m\"\u001b[39;49m\u001b[43m]\u001b[49m\n\u001b[0;32m     22\u001b[0m     \u001b[38;5;28;01mfor\u001b[39;00m club \u001b[38;5;129;01min\u001b[39;00m clubs:\n\u001b[0;32m     23\u001b[0m         club_id \u001b[38;5;241m=\u001b[39m club[\u001b[38;5;124m\"\u001b[39m\u001b[38;5;124mid\u001b[39m\u001b[38;5;124m\"\u001b[39m]\n",
      "\u001b[1;31mKeyError\u001b[0m: 'clubs'"
     ]
    }
   ],
   "source": [
    "!pip install requests\n",
    "import requests\n",
    "import pandas as pd\n",
    "\n",
    "# IDs competitions Transfermarkt :\n",
    "LEAGUES = {\n",
    "    \"Premier League\": \"GB1\",\n",
    "    \"La Liga\":        \"ES1\",\n",
    "    \"Bundesliga\":     \"L1\",\n",
    "    \"Serie A\":        \"IT1\",\n",
    "    \"Ligue 1\":        \"FR1\",\n",
    "    \"Liga Portugal\":  \"PO1\",\n",
    "    \"Eredivisie\":     \"NL1\",\n",
    "    \"Saudi Pro L.\":   \"SA1\"\n",
    "}\n",
    "BASE = \"https://transfermarkt-api.fly.dev\"\n",
    "\n",
    "records = []\n",
    "for league, comp_id in LEAGUES.items():\n",
    "    # 1) clubs de la ligue\n",
    "    clubs = requests.get(f\"{BASE}/competitions/{comp_id}/clubs\").json()[\"clubs\"]\n",
    "    for club in clubs:\n",
    "        club_id = club[\"id\"]\n",
    "        # 2) profil détaillé du club\n",
    "        profile = requests.get(f\"{BASE}/clubs/{club_id}/profile\").json()\n",
    "        records.append({\n",
    "            \"league\": league,\n",
    "            \"club\":   profile[\"name\"],\n",
    "            \"stadium\":profile.get(\"stadium\"),\n",
    "            \"founded\":profile.get(\"founded\"),\n",
    "            \"squad_size\": profile.get(\"squad_size\"),\n",
    "            \"avg_age\":    profile.get(\"average_age\"),\n",
    "            \"market_value\": profile.get(\"total_market_value\"),\n",
    "            \"country\": profile.get(\"country\")\n",
    "        })\n",
    "\n",
    "df = pd.DataFrame(records)\n",
    "df.to_csv(\"clubs_8_leagues.csv\", index=False)\n",
    "print(\"✅ CSV exporté : clubs_8_leagues.csv\")"
   ]
  }
 ],
 "metadata": {
  "kernelspec": {
   "display_name": "base",
   "language": "python",
   "name": "python3"
  },
  "language_info": {
   "codemirror_mode": {
    "name": "ipython",
    "version": 3
   },
   "file_extension": ".py",
   "mimetype": "text/x-python",
   "name": "python",
   "nbconvert_exporter": "python",
   "pygments_lexer": "ipython3",
   "version": "3.12.4"
  }
 },
 "nbformat": 4,
 "nbformat_minor": 5
}
