{
 "cells": [
  {
   "cell_type": "markdown",
   "id": "68b6045e",
   "metadata": {},
   "source": [
    "\n",
    "# 🏆 Scraper les titres Transfermarkt 2024–2025\n",
    "Ce notebook automatise la récupération des titres récents (2023–2025) pour une liste de joueurs via leurs pages `transfermarkt.com`.\n"
   ]
  },
  {
   "cell_type": "code",
   "execution_count": null,
   "id": "67af18e0",
   "metadata": {},
   "outputs": [],
   "source": [
    "\n",
    "import requests\n",
    "from bs4 import BeautifulSoup\n",
    "import pandas as pd\n",
    "import time\n",
    "\n",
    "headers = {\"User-Agent\": \"Mozilla/5.0\"}\n"
   ]
  },
  {
   "cell_type": "code",
   "execution_count": null,
   "id": "451c64c3",
   "metadata": {},
   "outputs": [],
   "source": [
    "\n",
    "def get_transfermarkt_url(player_name):\n",
    "    query = player_name.replace(\" \", \"+\")\n",
    "    search_url = f\"https://www.transfermarkt.com/schnellsuche/ergebnis/schnellsuche?query={query}\"\n",
    "    r = requests.get(search_url, headers=headers)\n",
    "    soup = BeautifulSoup(r.text, \"html.parser\")\n",
    "    result = soup.select_one(\"table.items tbody tr td.hauptlink a\")\n",
    "    if result:\n",
    "        return \"https://www.transfermarkt.com\" + result[\"href\"].replace(\"/profil\", \"/erfolge\")\n",
    "    return None\n"
   ]
  },
  {
   "cell_type": "code",
   "execution_count": null,
   "id": "6febf997",
   "metadata": {},
   "outputs": [],
   "source": [
    "\n",
    "def get_titles(player_url, player_name):\n",
    "    r = requests.get(player_url, headers=headers)\n",
    "    soup = BeautifulSoup(r.text, 'html.parser')\n",
    "    table = soup.find(\"table\", class_=\"erfolg_table\")\n",
    "    titles = []\n",
    "\n",
    "    if not table:\n",
    "        return titles\n",
    "\n",
    "    rows = table.find_all(\"tr\")[1:]\n",
    "    for row in rows:\n",
    "        cols = row.find_all(\"td\")\n",
    "        if len(cols) >= 3:\n",
    "            season = cols[0].text.strip()\n",
    "            title = cols[1].text.strip()\n",
    "            club = cols[2].text.strip()\n",
    "            if \"2023\" in season or \"2024\" in season or \"2025\" in season:\n",
    "                titles.append({\n",
    "                    \"Player\": player_name,\n",
    "                    \"Season\": season,\n",
    "                    \"Title\": title,\n",
    "                    \"Club\": club\n",
    "                })\n",
    "    return titles\n"
   ]
  },
  {
   "cell_type": "code",
   "execution_count": null,
   "id": "6ce73f11",
   "metadata": {},
   "outputs": [],
   "source": [
    "\n",
    "players = ['Federico Valverde', 'Kylian Mbappé', 'Jude Bellingham', 'Vinicius Júnior', 'Luka Modrić',\n",
    "           'Eduardo Camavinga', 'Dani Carvajal', 'Rodrygo', 'Antonio Rüdiger', 'Andriy Lunin', 'Toni Kroos',\n",
    "           'Pedri', 'Lamine Yamal', 'Alejandro Balde', 'Robert Lewandowski', 'Nacho', 'Joselu',\n",
    "           'Aurélien Tchouaméni', 'Fran García', 'Gavi', 'Raphinha', 'Erling Haaland', 'Phil Foden',\n",
    "           'Rodri', 'Florian Wirtz', 'Harry Kane', 'João Cancelo', 'Achraf Hakimi', 'Lionel Messi']\n",
    "\n",
    "all_titles = []\n",
    "\n",
    "for player in players:\n",
    "    print(f\"🔍 Recherche de {player}...\")\n",
    "    url = get_transfermarkt_url(player)\n",
    "    if url:\n",
    "        print(f\"➡️  {url}\")\n",
    "        titles = get_titles(url, player)\n",
    "        all_titles.extend(titles)\n",
    "    else:\n",
    "        print(\"❌ Aucune URL trouvée.\")\n",
    "    time.sleep(2)\n",
    "\n",
    "df_titles = pd.DataFrame(all_titles)\n",
    "df_titles.to_csv(\"scraped_titles_2025.csv\", index=False)\n",
    "df_titles.head()\n"
   ]
  }
 ],
 "metadata": {},
 "nbformat": 4,
 "nbformat_minor": 5
}
