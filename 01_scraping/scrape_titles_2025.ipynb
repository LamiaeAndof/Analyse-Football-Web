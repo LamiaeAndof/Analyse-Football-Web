{
 "cells": [
  {
   "cell_type": "markdown",
   "id": "68b6045e",
   "metadata": {},
   "source": [
    "\n",
    "# 🏆 Scraper les titres Transfermarkt 2024–2025\n",
    "Ce notebook automatise la récupération des titres récents (2023–2025) pour une liste de joueurs via leurs pages `transfermarkt.com`.\n"
   ]
  },
  {
   "cell_type": "code",
   "execution_count": 1,
   "id": "67af18e0",
   "metadata": {},
   "outputs": [],
   "source": [
    "\n",
    "import requests\n",
    "from bs4 import BeautifulSoup\n",
    "import pandas as pd\n",
    "import time\n",
    "\n",
    "headers = {\"User-Agent\": \"Mozilla/5.0\"}\n"
   ]
  },
  {
   "cell_type": "code",
   "execution_count": 2,
   "id": "451c64c3",
   "metadata": {},
   "outputs": [],
   "source": [
    "\n",
    "def get_transfermarkt_url(player_name):\n",
    "    query = player_name.replace(\" \", \"+\")\n",
    "    search_url = f\"https://www.transfermarkt.com/schnellsuche/ergebnis/schnellsuche?query={query}\"\n",
    "    r = requests.get(search_url, headers=headers)\n",
    "    soup = BeautifulSoup(r.text, \"html.parser\")\n",
    "    result = soup.select_one(\"table.items tbody tr td.hauptlink a\")\n",
    "    if result:\n",
    "        return \"https://www.transfermarkt.com\" + result[\"href\"].replace(\"/profil\", \"/erfolge\")\n",
    "    return None\n"
   ]
  },
  {
   "cell_type": "code",
   "execution_count": 3,
   "id": "6febf997",
   "metadata": {},
   "outputs": [],
   "source": [
    "\n",
    "def get_titles(player_url, player_name):\n",
    "    r = requests.get(player_url, headers=headers)\n",
    "    soup = BeautifulSoup(r.text, 'html.parser')\n",
    "    table = soup.find(\"table\", class_=\"erfolg_table\")\n",
    "    titles = []\n",
    "\n",
    "    if not table:\n",
    "        return titles\n",
    "\n",
    "    rows = table.find_all(\"tr\")[1:]\n",
    "    for row in rows:\n",
    "        cols = row.find_all(\"td\")\n",
    "        if len(cols) >= 3:\n",
    "            season = cols[0].text.strip()\n",
    "            title = cols[1].text.strip()\n",
    "            club = cols[2].text.strip()\n",
    "            if \"2023\" in season or \"2024\" in season or \"2025\" in season:\n",
    "                titles.append({\n",
    "                    \"Player\": player_name,\n",
    "                    \"Season\": season,\n",
    "                    \"Title\": title,\n",
    "                    \"Club\": club\n",
    "                })\n",
    "    return titles\n"
   ]
  },
  {
   "cell_type": "code",
   "execution_count": 4,
   "id": "6ce73f11",
   "metadata": {},
   "outputs": [
    {
     "name": "stdout",
     "output_type": "stream",
     "text": [
      "🔍 Recherche de Federico Valverde...\n",
      "➡️  https://www.transfermarkt.com/federico-valverde/erfolge/spieler/369081\n",
      "🔍 Recherche de Kylian Mbappé...\n",
      "➡️  https://www.transfermarkt.com/kylian-mbappe/erfolge/spieler/342229\n",
      "🔍 Recherche de Jude Bellingham...\n",
      "➡️  https://www.transfermarkt.com/jude-bellingham/erfolge/spieler/581678\n",
      "🔍 Recherche de Vinicius Júnior...\n",
      "➡️  https://www.transfermarkt.com/vinicius-junior/erfolge/spieler/371998\n",
      "🔍 Recherche de Luka Modrić...\n",
      "➡️  https://www.transfermarkt.com/luka-modric/erfolge/spieler/27992\n",
      "🔍 Recherche de Eduardo Camavinga...\n",
      "➡️  https://www.transfermarkt.com/eduardo-camavinga/erfolge/spieler/640428\n",
      "🔍 Recherche de Dani Carvajal...\n",
      "➡️  https://www.transfermarkt.com/gines-carvajal/beraterfirma/berater/2796\n",
      "🔍 Recherche de Rodrygo...\n",
      "➡️  https://www.transfermarkt.com/rodrygo/erfolge/spieler/412363\n",
      "🔍 Recherche de Antonio Rüdiger...\n",
      "➡️  https://www.transfermarkt.com/antonio-rudiger/erfolge/spieler/86202\n",
      "🔍 Recherche de Andriy Lunin...\n",
      "➡️  https://www.transfermarkt.com/andriy-lunin/erfolge/spieler/404839\n",
      "🔍 Recherche de Toni Kroos...\n",
      "➡️  https://www.transfermarkt.com/toni-kroos/erfolge/spieler/31909\n",
      "🔍 Recherche de Pedri...\n",
      "➡️  https://www.transfermarkt.com/pedri/erfolge/spieler/683840\n",
      "🔍 Recherche de Lamine Yamal...\n",
      "➡️  https://www.transfermarkt.com/lamine-yamal/erfolge/spieler/937958\n",
      "🔍 Recherche de Alejandro Balde...\n",
      "➡️  https://www.transfermarkt.com/alejandro-balde/erfolge/spieler/636688\n",
      "🔍 Recherche de Robert Lewandowski...\n",
      "➡️  https://www.transfermarkt.com/robert-lewandowski/erfolge/spieler/38253\n",
      "🔍 Recherche de Nacho...\n",
      "➡️  https://www.transfermarkt.com/nacho-fernandez/erfolge/spieler/58884\n",
      "🔍 Recherche de Joselu...\n",
      "➡️  https://www.transfermarkt.com/joselu/erfolge/spieler/81999\n",
      "🔍 Recherche de Aurélien Tchouaméni...\n",
      "➡️  https://www.transfermarkt.com/aurelien-tchouameni/erfolge/spieler/413112\n",
      "🔍 Recherche de Fran García...\n",
      "➡️  https://www.transfermarkt.com/fran-garcia/erfolge/spieler/341264\n",
      "🔍 Recherche de Gavi...\n",
      "➡️  https://www.transfermarkt.com/gavi/erfolge/spieler/646740\n",
      "🔍 Recherche de Raphinha...\n",
      "➡️  https://www.transfermarkt.com/raphinha/erfolge/spieler/411295\n",
      "🔍 Recherche de Erling Haaland...\n",
      "➡️  https://www.transfermarkt.com/erling-haaland/erfolge/spieler/418560\n",
      "🔍 Recherche de Phil Foden...\n",
      "➡️  https://www.transfermarkt.com/phil-foden/erfolge/spieler/406635\n",
      "🔍 Recherche de Rodri...\n",
      "➡️  https://www.transfermarkt.com/rodri/erfolge/spieler/357565\n",
      "🔍 Recherche de Florian Wirtz...\n",
      "➡️  https://www.transfermarkt.com/florian-wirtz/erfolge/spieler/598577\n",
      "🔍 Recherche de Harry Kane...\n",
      "➡️  https://www.transfermarkt.com/harry-kane/erfolge/spieler/132098\n",
      "🔍 Recherche de João Cancelo...\n",
      "➡️  https://www.transfermarkt.com/joao-cancelo/erfolge/spieler/182712\n",
      "🔍 Recherche de Achraf Hakimi...\n",
      "➡️  https://www.transfermarkt.com/achraf-hakimi/erfolge/spieler/398073\n",
      "🔍 Recherche de Lionel Messi...\n",
      "➡️  https://www.transfermarkt.com/lionel-messi/erfolge/spieler/28003\n"
     ]
    },
    {
     "data": {
      "text/html": [
       "<div>\n",
       "<style scoped>\n",
       "    .dataframe tbody tr th:only-of-type {\n",
       "        vertical-align: middle;\n",
       "    }\n",
       "\n",
       "    .dataframe tbody tr th {\n",
       "        vertical-align: top;\n",
       "    }\n",
       "\n",
       "    .dataframe thead th {\n",
       "        text-align: right;\n",
       "    }\n",
       "</style>\n",
       "<table border=\"1\" class=\"dataframe\">\n",
       "  <thead>\n",
       "    <tr style=\"text-align: right;\">\n",
       "      <th></th>\n",
       "    </tr>\n",
       "  </thead>\n",
       "  <tbody>\n",
       "  </tbody>\n",
       "</table>\n",
       "</div>"
      ],
      "text/plain": [
       "Empty DataFrame\n",
       "Columns: []\n",
       "Index: []"
      ]
     },
     "execution_count": 4,
     "metadata": {},
     "output_type": "execute_result"
    }
   ],
   "source": [
    "\n",
    "players = ['Federico Valverde', 'Kylian Mbappé', 'Jude Bellingham', 'Vinicius Júnior', 'Luka Modrić',\n",
    "           'Eduardo Camavinga', 'Dani Carvajal', 'Rodrygo', 'Antonio Rüdiger', 'Andriy Lunin', 'Toni Kroos',\n",
    "           'Pedri', 'Lamine Yamal', 'Alejandro Balde', 'Robert Lewandowski', 'Nacho', 'Joselu',\n",
    "           'Aurélien Tchouaméni', 'Fran García', 'Gavi', 'Raphinha', 'Erling Haaland', 'Phil Foden',\n",
    "           'Rodri', 'Florian Wirtz', 'Harry Kane', 'João Cancelo', 'Achraf Hakimi', 'Lionel Messi']\n",
    "\n",
    "all_titles = []\n",
    "\n",
    "for player in players:\n",
    "    print(f\"🔍 Recherche de {player}...\")\n",
    "    url = get_transfermarkt_url(player)\n",
    "    if url:\n",
    "        print(f\"➡️  {url}\")\n",
    "        titles = get_titles(url, player)\n",
    "        all_titles.extend(titles)\n",
    "    else:\n",
    "        print(\"❌ Aucune URL trouvée.\")\n",
    "    time.sleep(2)\n",
    "\n",
    "df_titles = pd.DataFrame(all_titles)\n",
    "df_titles.to_csv(\"scraped_titles_2025.csv\", index=False)\n",
    "df_titles.head()\n"
   ]
  }
 ],
 "metadata": {
  "kernelspec": {
   "display_name": "base",
   "language": "python",
   "name": "python3"
  },
  "language_info": {
   "codemirror_mode": {
    "name": "ipython",
    "version": 3
   },
   "file_extension": ".py",
   "mimetype": "text/x-python",
   "name": "python",
   "nbconvert_exporter": "python",
   "pygments_lexer": "ipython3",
   "version": "3.12.4"
  }
 },
 "nbformat": 4,
 "nbformat_minor": 5
}
